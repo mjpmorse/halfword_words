{
 "cells": [
  {
   "cell_type": "raw",
   "metadata": {},
   "source": []
  },
  {
   "cell_type": "code",
   "execution_count": 23,
   "metadata": {},
   "outputs": [],
   "source": [
    "from PyDictionary import PyDictionary\n",
    "from nltk.corpus import words\n",
    "import nltk\n",
    "from collections import Counter"
   ]
  },
  {
   "cell_type": "code",
   "execution_count": 13,
   "metadata": {},
   "outputs": [
    {
     "name": "stdout",
     "output_type": "stream",
     "text": [
      "showing info https://raw.githubusercontent.com/nltk/nltk_data/gh-pages/index.xml\n"
     ]
    }
   ],
   "source": [
    "dictionary=PyDictionary()\n",
    "nltk.download()\n",
    "word_list = words.words()"
   ]
  },
  {
   "cell_type": "code",
   "execution_count": 60,
   "metadata": {},
   "outputs": [],
   "source": [
    "most_common_letter = Counter(word_list[5]).most_common(1)[0]\n",
    "\n",
    "half_letter_words = []\n",
    "\n",
    "\n",
    "for word in word_list:\n",
    "    most_common = Counter(word).most_common(1)[0]\n",
    "    if((most_common[1]==len(word)/2) and (len(word) > 2)):\n",
    "        half_letter_words.append(word)\n"
   ]
  },
  {
   "cell_type": "code",
   "execution_count": 71,
   "metadata": {},
   "outputs": [
    {
     "name": "stdout",
     "output_type": "stream",
     "text": [
      "Percent of words with most repeated letter = half word length: 0.80%\n"
     ]
    }
   ],
   "source": [
    "print(\"Percent of words with most repeated letter = half word length: %.2f%%\"%(len(half_letter_words)/ len([x for x in word_list if len(x) > 2])*100) )"
   ]
  },
  {
   "cell_type": "code",
   "execution_count": 72,
   "metadata": {},
   "outputs": [
    {
     "name": "stdout",
     "output_type": "stream",
     "text": [
      "['abac', 'abacay', 'abas', 'abasia', 'Abba', 'Abby', 'acca', 'acta', 'Adad', 'adad', 'adamas', 'adat', 'adaw', 'aday', 'Adda', 'adda', 'addend', 'Addu', 'Addy', 'adhaka', 'afar', 'affa', 'affy', 'aftaba', 'Agag', 'agal', 'agalaxia', 'agalma', 'agar', 'agee', 'agha', 'agla', 'agog', 'agua', 'ahankara', 'aimara', 'ajar', 'akaroa', 'akazga', 'akee', 'akia', 'Akka', 'akra', 'alacha', 'alan', 'alar', 'alas', 'alba', 'albahaca', 'albata', 'alee', 'alfa', 'alga', 'Alle', 'allele', 'Ally', 'ally', 'alma', 'alpaca', 'amadavat', 'amah', 'amalaita', 'amamau', 'amania', 'amar', 'amazia', 'amba', 'amla', 'Amma', 'amma', 'Ammi', 'ammo', 'ammu', 'amomum', 'ampalaya', 'amra', 'anagap', 'anagua', 'anahau', 'anal', 'analav', 'anam', 'anan', 'ananas', 'ananda', 'anaqua', 'anarya', 'anasarca', 'anay', 'anba', 'anda', 'Anna', 'anna', 'Anne', 'Annona', 'annona', 'anoa', 'anon', 'ansa', 'anta', 'apar', 'apatan', 'apii', 'aqua', 'araban', 'aracanga', 'arad', 'aranga', 'aranzada', 'arapaima', 'arar', 'araracanga', 'ararao', 'ararauna', 'arba', 'arca', 'arcana', 'area', 'argala', 'aria', 'armada', 'arna', 'arrear', 'Arry', 'artaba', 'asak', 'asarabacca', 'assassin', 'assbaa', 'asse', 'assessed', 'assessee', 'assessor', 'assets', 'assi', 'assise', 'assish', 'assishness', 'assist', 'assistless', 'asta', 'atabal', 'ataman', 'atap', 'ataraxia', 'ataxia', 'atma', 'Atta', 'atta', 'attent', 'attest', 'auca', 'auhuhu', 'aula', 'aulu', 'aumaga', 'aupaka', 'aura', 'ausu', 'avadavat', 'aval', 'avania', 'awag', 'awat', 'away', 'awee', 'axal', 'ayah', 'azalea', 'Baal', 'baal', 'baar', 'baba', 'babble', 'babbly', 'babe', 'babu', 'baby', 'bacaba', 'Badaga', 'baff', 'baga', 'Bahama', 'bajada', 'baka', 'Bala', 'Balaam', 'Balarama', 'balata', 'Balawa', 'ball', 'Bana', 'banaba', 'banana', 'baobab', 'bara', 'barabara', 'Baraca', 'barb', 'barrer', 'bass', 'bassness', 'bassus', 'bataan', 'batara', 'batata', 'batt', 'Baya', 'baya', 'bazaar', 'beatee', 'bedded', 'bedene', 'beef', 'beefer', 'beek', 'been', 'beer', 'bees', 'beet', 'beetle', 'beetleweed', 'befreeze', 'bell', 'bellpull', 'bene', 'benn', 'bere', 'beseem', 'beseen', 'besleeve', 'Bess', 'beteem', 'beweep', 'beweeper', 'bibber', 'bibble', 'bibi', 'bibiri', 'biff', 'bigg', 'bikini', 'Bill', 'bill', 'Bimini', 'Bini', 'biri', 'birr', 'biti', 'bitt', 'bizz', 'blab', 'bleb', 'blebby', 'blee', 'bleeze', 'blob', 'blobby', 'blolly', 'blub', 'boba', 'bobbed', 'bobber', 'bobbin', 'bobble', 'bobo', 'Bodo', 'Bogo', 'bogo', 'boho', 'Boii', 'bojo', 'boll', 'Bolo', 'bolo', 'boloroot', 'bomb', 'boob', 'bood', 'boof', 'book', 'bookhood', 'bookroom', 'bool', 'boom', 'boon', 'boor', 'boot', 'Boro', 'boro', 'Bororo', 'boss', 'bott', 'bowwow', 'bozo', 'brab', 'bree', 'breeze', 'brob', 'broo', 'buba', 'bubble', 'bubbly', 'bubo', 'buff', 'bulb', 'bull', 'bullpoll', 'burr', 'burrer', 'buss', 'butt', 'buzz', 'byee', 'byssus', 'caam', 'caba', 'cabaan', 'cabala', 'cabana', 'Caca', 'Cacana', 'Cacara', 'cack', 'calaba', 'calabaza', 'calcic', 'call', 'camaca', 'camara', 'camata', 'Cana', 'Canaan', 'canaba', 'Canada', 'canada', 'cannon', 'Cara', 'caracara', 'Caragana', 'Caraja', 'Carapa', 'Carara', 'carr', 'casaba', 'casava', 'cass', 'Cassis', 'cassis', 'cava', 'Cayapa', 'caza', 'cede', 'cell', 'cepe', 'cercelee', 'cere', 'cess', 'Cete', 'cetene', 'chaa', 'chee', 'cheese', 'chic', 'chih', 'Cissus', 'cixiid', 'clee', 'coca', 'coccal', 'coccid', 'coccus', 'coccyx', 'cock', 'coco', 'cocobolo', 'cocoon', 'cocoroot', 'cocowood', 'codo', 'coff', 'coho', 'coll', 'conn', 'coof', 'cook', 'cookbook', 'cookroom', 'cool', 'coom', 'coon', 'coonroot', 'coop', 'Coos', 'coot', 'cootfoot', 'Coropo', 'corozo', 'coss', 'cossas', 'coto', 'cotoro', 'Cotoxo', 'coyo', 'Cree', 'cree', 'creese', 'cric', 'croc', 'cuck', 'cuff', 'cull', 'curr', 'curucucu', 'cuss', 'cyclic', 'dabb', 'Dada', 'dada', 'dadder', 'daddle', 'dade', 'dado', 'daff', 'dagaba', 'dama', 'Damara', 'Dana', 'Danaan', 'dand', 'darr', 'data', 'daud', 'Daza', 'dead', 'debtee', 'decene', 'decree', 'dedo', 'deed', 'deem', 'deemer', 'deemie', 'deep', 'deepen', 'deepener', 'Deepfreeze', 'deer', 'deerweed', 'deevey', 'defreeze', 'degree', 'dele', 'delete', 'dell', 'deme', 'Dene', 'dene', 'dere', 'deseed', 'dess', 'didder', 'diddle', 'dill', 'dird', 'dispossess', 'diss', 'dodder', 'doddered', 'doddie', 'doddle', 'dodo', 'doff', 'Doko', 'doll', 'Donn', 'doob', 'doocot', 'doodad', 'dook', 'dool', 'doom', 'doombook', 'doon', 'door', 'Dorobo', 'doss', 'Doto', 'dowd', 'dree', 'duad', 'dubb', 'dudder', 'dude', 'duff', 'dull', 'dyad', 'ease', 'eave', 'eboe', 'Ecca', 'eche', 'ectene', 'Edda', 'eddo', 'Eddy', 'eddy', 'edea', 'edge', 'edgeweed', 'eelery', 'eely', 'effete', 'egence', 'egging', 'eggnog', 'eggy', 'eheu', 'ejoo', 'eker', 'ekka', 'ektene', 'elchee', 'elenge', 'eleven', 'elevener', 'Ella', 'elle', 'else', 'emerge', 'emerse', 'Emim', 'Emma', 'emma', 'endere', 'enfeeble', 'enfree', 'ense', 'enseem', 'ensete', 'entree', 'eozoon', 'ephebe', 'ephete', 'epopee', 'Eppy', 'erne', 'esne', 'esteem', 'esteemer', 'ethene', 'Etta', 'euge', 'even', 'evener', 'evenmete', 'eveque', 'ever', 'evoe', 'ewelease', 'ewer', 'ewerer', 'exceed', 'exceeder', 'exegeses', 'exes', 'expede', 'expellee', 'eyed', 'eyelet', 'eyen', 'eyepiece', 'eyer', 'eyey', 'eyne', 'eyre', 'Faba', 'faffle', 'Fagara', 'falanaka', 'fall', 'Fama', 'fana', 'fass', 'Fatagaga', 'feeble', 'feed', 'feeder', 'feel', 'feeler', 'feer', 'feif', 'fell', 'Feme', 'feme', 'fess', 'feudee', 'fife', 'fifo', 'Fiji', 'fill', 'Finn', 'fizz', 'flee', 'fleece', 'fluffy', 'fogo', 'fono', 'food', 'fool', 'foot', 'foothook', 'footroom', 'forhoo', 'free', 'freeze', 'Frisii', 'fugu', 'full', 'fuss', 'fuzz', 'Gadaba', 'gadded', 'gaff', 'gage', 'gagger', 'gaggle', 'Gaia', 'gala', 'galagala', 'gall', 'gang', 'ganggang', 'Gapa', 'gapa', 'gara', 'garapata', 'garava', 'gata', 'geek', 'geet', 'Geez', 'geezer', 'geggee', 'gegger', 'gell', 'Gene', 'gene', 'Genevese', 'ghee', 'giffgaff', 'gigger', 'giggit', 'giggle', 'giggling', 'giggly', 'Gigi', 'Gill', 'gill', 'ging', 'girr', 'gizz', 'glee', 'gleg', 'glug', 'gobo', 'godded', 'goff', 'goggan', 'goggle', 'goggly', 'Gogo', 'gogo', 'Goll', 'Golo', 'gong', 'good', 'goof', 'googol', 'gook', 'gool', 'goon', 'Goop', 'gree', 'grig', 'grog', 'groggy', 'guff', 'guggle', 'gugu', 'gull', 'gurr', 'guru', 'guss', 'gutt', 'gwag', 'haab', 'haaf', 'haff', 'hala', 'hall', 'hallel', 'hammam', 'Haraya', 'harr', 'hash', 'hath', 'hatt', 'Havana', 'haya', 'Hazara', 'hebete', 'hech', 'heed', 'heeder', 'heel', 'heeled', 'heeler', 'heeltree', 'heer', 'heezie', 'Hehe', 'heii', 'hele', 'hell', 'heme', 'hennin', 'here', 'hexene', 'high', 'hill', 'Hillel', 'hish', 'hiss', 'hizz', 'hobo', 'Hobomoco', 'holl', 'homo', 'hood', 'hoof', 'hook', 'hoon', 'hoop', 'hoopoe', 'hoopwood', 'hoot', 'horror', 'hubb', 'hubbub', 'huff', 'hull', 'hulu', 'hunh', 'hurr', 'hush', 'huss', 'huzz', 'ibid', 'ibis', 'idic', 'iffy', 'ilia', 'iliahi', 'ilicic', 'ilicin', 'illy', 'imam', 'imidic', 'immi', 'impi', 'initis', 'inning', 'iodo', 'iodoso', 'ipid', 'ipil', 'irid', 'iridic', 'iridin', 'iris', 'irisin', 'iritic', 'iritis', 'isidioid', 'Isis', 'ivin', 'iwis', 'Izzy', 'Jacana', 'jacana', 'Jaga', 'jalapa', 'jama', 'janapa', 'jann', 'jara', 'jararaca', 'jass', 'Java', 'jazz', 'jeel', 'jeep', 'jeer', 'jeerer', 'Jeff', 'jeff', 'jell', 'jereed', 'Jess', 'jess', 'jestee', 'jete', 'jibi', 'jiff', 'Jill', 'jinn', 'Jiri', 'jiti', 'jobo', 'Jodo', 'joll', 'joom', 'Joon', 'joss', 'juju', 'Kabaka', 'kabaya', 'Kadaga', 'kadaya', 'Kafa', 'kaha', 'kaik', 'kaka', 'kaki', 'kala', 'kaladana', 'kamala', 'kana', 'Kanaka', 'kanara', 'kapa', 'kapp', 'karaka', 'Karaya', 'karaya', 'kasa', 'katakana', 'kava', 'kawaka', 'keck', 'kedgeree', 'keek', 'keeker', 'keel', 'keeled', 'keeler', 'keelie', 'keen', 'keened', 'keener', 'keep', 'keeper', 'Kees', 'keet', 'Kele', 'kele', 'kelebe', 'kelk', 'kell', 'Kenn', 'ketene', 'kick', 'kike', 'Kiki', 'kiki', 'kiku', 'kill', 'kink', 'kiri', 'kirk', 'kiss', 'kivikivi', 'kiwi', 'kiwikiwi', 'kiyi', 'knee', 'koff', 'kokako', 'Koko', 'koko', 'kokoon', 'koku', 'kolo', 'kolokolo', 'Koolooly', 'Koso', 'koto', 'Kotoko', 'kozo', 'Kroo', 'kudu', 'kuku', 'Kukuruku', 'kunk', 'labara', 'lalo', 'lama', 'Lana', 'Lapp', 'lasa', 'lass', 'lata', 'lava', 'leal', 'leally', 'lede', 'leed', 'leek', 'leep', 'leer', 'lees', 'leet', 'lendee', 'lene', 'less', 'lessee', 'lessness', 'lete', 'Lett', 'libidibi', 'lidded', 'lienee', 'liin', 'lile', 'lilt', 'lily', 'linn', 'liss', 'llyn', 'loblolly', 'lobo', 'loco', 'locofoco', 'loller', 'lollop', 'Lolo', 'lood', 'loof', 'look', 'loom', 'loon', 'loop', 'loot', 'loro', 'loss', 'lossless', 'luff', 'Luggnagg', 'luller', 'lulliloo', 'Lulu', 'lulu', 'lunn', 'Lynn', 'maam', 'Maba', 'Macaca', 'macana', 'Maga', 'maha', 'maharaja', 'maharana', 'Mahayana', 'Maia', 'maim', 'Maja', 'Makaraka', 'mala', 'Malaga', 'mall', 'malm', 'mammal', 'mammee', 'mammer', 'mammon', 'mamo', 'mana', 'Mann', 'mannan', 'Mara', 'maraca', 'marara', 'marm', 'marrer', 'masa', 'Mass', 'mass', 'massless', 'matamata', 'matara', 'Matt', 'Maya', 'maya', 'Mayaca', 'maza', 'Mazama', 'Mede', 'meed', 'meek', 'meeken', 'meered', 'meet', 'meeten', 'meeter', 'mele', 'melene', 'mell', 'memo', 'mendee', 'mere', 'mese', 'mess', 'messrs', 'mestee', 'mete', 'miff', 'Miki', 'mill', 'mima', 'mime', 'Mimi', 'mimp', 'mirror', 'miss', 'missis', 'mitt', 'mocomoco', 'moff', 'mogo', 'moho', 'moio', 'Mojo', 'mojo', 'moko', 'Moll', 'mome', 'momism', 'mommet', 'momo', 'Mono', 'mono', 'mood', 'mool', 'moon', 'moop', 'Moor', 'moor', 'moot', 'Moro', 'moro', 'moss', 'mossless', 'Mott', 'mott', 'Moxo', 'moyo', 'mudd', 'muff', 'mugg', 'mull', 'mummer', 'mummydom', 'mump', 'murumuru', 'muss', 'mutt', 'mutuum', 'muzz', 'naam', 'Naaman', 'Naga', 'naga', 'nagana', 'nagara', 'nain', 'Naja', 'Nama', 'Nana', 'nana', 'nane', 'nankin', 'nant', 'napa', 'Napaea', 'narr', 'nataka', 'Nataraja', 'Natt', 'need', 'needer', 'needle', 'neeger', 'neem', 'neep', 'neer', 'neet', 'Nell', 'neon', 'nese', 'ness', 'nete', 'neve', 'Nici', 'nidi', 'nine', 'Noll', 'noll', 'nolo', 'nonane', 'noncon', 'none', 'nonene', 'nonent', 'nonion', 'nonnat', 'nonrun', 'nontan', 'nonunion', 'nook', 'noon', 'noop', 'noun', 'Novo', 'Nudd', 'null', 'oboe', 'obol', 'obsess', 'octoon', 'octoroon', 'Odds', 'odds', 'odor', 'odso', 'ogee', 'ohoy', 'okee', 'oleo', 'olio', 'olla', 'olomao', 'omao', 'Onan', 'onlook', 'onto', 'oofy', 'oogone', 'ooid', 'oology', 'oolong', 'oons', 'oont', 'oophoron', 'oord', 'ootocoid', 'ootocous', 'ooze', 'oozy', 'orlo', 'orrery', 'osse', 'Otto', 'otto', 'paal', 'paar', 'Paba', 'paca', 'pacaya', 'paga', 'paha', 'paip', 'pajama', 'Pakawa', 'Pala', 'palama', 'pall', 'palp', 'panada', 'Panaka', 'panama', 'papa', 'papaya', 'pape', 'pappox', 'pappus', 'para', 'parr', 'pass', 'passless', 'passus', 'pata', 'pataca', 'pataka', 'paup', 'peed', 'peek', 'peel', 'peeled', 'peeler', 'peen', 'peenge', 'peep', 'peeper', 'peer', 'peerie', 'peesweep', 'peetweet', 'peeved', 'peever', 'Pele', 'pell', 'pellmell', 'pennon', 'pepo', 'pepper', 'peppin', 'pess', 'Pete', 'pete', 'phoh', 'phoo', 'Pici', 'piff', 'piitis', 'piki', 'pili', 'pill', 'pimp', 'pipa', 'pipe', 'pipi', 'pipiri', 'pipped', 'pipper', 'pippin', 'pipy', 'pirijiri', 'piripiri', 'pirr', 'piss', 'plap', 'plop', 'plup', 'poco', 'podded', 'Pogo', 'Pokomo', 'Poll', 'poll', 'polo', 'Pomo', 'pomp', 'pooa', 'poof', 'pooh', 'pook', 'pool', 'poolroom', 'poolroot', 'poon', 'poop', 'poor', 'poot', 'pope', 'Popoloco', 'poppel', 'popper', 'poppet', 'poppin', 'popple', 'popply', 'Porokoto', 'poroporo', 'porr', 'poss', 'possessoress', 'pott', 'powwow', 'preeze', 'preferee', 'prep', 'presee', 'proo', 'prop', 'Pudu', 'pudu', 'puff', 'puku', 'pull', 'pulp', 'pulu', 'pump', 'pupa', 'puppet', 'purr', 'purrer', 'Puru', 'Purupuru', 'puss', 'putt', 'qere', 'queeve', 'raad', 'Raanan', 'rada', 'raff', 'raga', 'Raia', 'raia', 'Raja', 'raja', 'Rama', 'ramada', 'ramarama', 'Rana', 'rana', 'rann', 'rare', 'rasa', 'rasamala', 'rata', 'raya', 'razz', 'rear', 'rearer', 'reassess', 'recede', 'recercelee', 'recurrer', 'redd', 'rede', 'redeed', 'redeem', 'redeemer', 'redeye', 'reed', 'reeded', 'reeden', 'reeder', 'reef', 'reefer', 'reek', 'reeker', 'reel', 'reeled', 'reeler', 'reem', 'reen', 'reenge', 'reeper', 'Rees', 'reesle', 'reet', 'reetle', 'refeed', 'refeel', 'referrer', 'reflee', 'refreeze', 'reheel', 'releasee', 'relessee', 'remede', 'remeet', 'remirror', 'renege', 'rennin', 'rentee', 'repp', 'rereel', 'reseed', 'reseek', 'resene', 'reserene', 'reservee', 'retene', 'retree', 'reve', 'reveneer', 'revere', 'revete', 'rier', 'Riff', 'riff', 'riffraff', 'Rifi', 'rikk', 'rill', 'riroriro', 'Riss', 'roar', 'roarer', 'rococo', 'rodd', 'roer', 'roll', 'rood', 'roof', 'rook', 'rool', 'room', 'roon', 'Root', 'root', 'ropp', 'rory', 'Ross', 'ross', 'roto', 'rudd', 'ruer', 'ruff', 'rull', 'ruru', 'Russ', 'Saad', 'Saan', 'Saba', 'saga', 'Sahara', 'sahh', 'Saka', 'Sakalava', 'salaam', 'samara', 'sans', 'sapa', 'Sara', 'saraad', 'Sarada', 'sasa', 'sash', 'sashless', 'satara', 'Savara', 'saya', 'scacchic', 'schuss', 'scissors', 'Seabee', 'secede', 'seed', 'seeded', 'Seeder', 'seeder', 'seek', 'seeker', 'seel', 'seem', 'seemer', 'seen', 'seenie', 'seep', 'seeped', 'seepweed', 'seer', 'seethe', 'sele', 'selectee', 'Selene', 'sell', 'seme', 'semeed', 'semese', 'sendee', 'seps', 'sepsis', 'Sere', 'sere', 'serene', 'sessions', 'sett', 'settee', 'severe', 'shah', 'shee', 'shih', 'shoo', 'sidi', 'sill', 'sinnen', 'siress', 'sise', 'sish', 'sisi', 'sissoo', 'sissyish', 'sissyism', 'sist', 'sizz', 'skee', 'skoo', 'slee', 'sleeve', 'sleeveen', 'sloo', 'smee', 'snee', 'sneeze', 'sneezeweed', 'soco', 'sodded', 'soho', 'solo', 'sons', 'sook', 'sool', 'soon', 'Soot', 'soot', 'sosh', 'soso', 'sossle', 'sots', 'speiss', 'squeegee', 'stases', 'stasis', 'steeve', 'stet', 'stot', 'strass', 'stress', 'stressless', 'stresslessness', 'stut', 'sucuruju', 'sudd', 'suds', 'suff', 'Suku', 'sull', 'Sulu', 'sunn', 'susi', 'Susu', 'susu', 'Susumu', 'Sutu', 'suum', 'Swissess', 'swow', 'syssel', 'systasis', 'syzygy', 'Taal', 'taar', 'Tacana', 'tact', 'taft', 'Tagala', 'taha', 'taiaha', 'tait', 'takamaka', 'takt', 'tala', 'tall', 'Tama', 'Tamanaca', 'Tamara', 'tamara', 'tana', 'Tanaka', 'Tanala', 'tannin', 'Tapa', 'tapa', 'tara', 'tarata', 'tarr', 'tarrer', 'tart', 'Tass', 'tass', 'tate', 'tath', 'tatter', 'tattle', 'tattoo', 'tattva', 'tatu', 'taut', 'tautit', 'tawa', 'teat', 'teedle', 'teel', 'teem', 'teemer', 'teen', 'teenet', 'teer', 'teerer', 'teet', 'teeter', 'teeterer', 'teethe', 'teff', 'tele', 'teleseme', 'tell', 'tellee', 'Teloogoo', 'telt', 'tenderee', 'tent', 'terebene', 'terete', 'terrar', 'terror', 'tervee', 'Tess', 'test', 'testee', 'tete', 'teth', 'tetter', 'tettix', 'text', 'that', 'thee', 'theetsee', 'thoo', 'tiff', 'tift', 'Tiki', 'tikitiki', 'till', 'tilt', 'tint', 'tipiti', 'tirr', 'tirrwirr', 'titbit', 'titbitty', 'tite', 'titi', 'titter', 'tittie', 'tittle', 'tittup', 'toat', 'toco', 'tocororo', 'Todd', 'toff', 'toft', 'togt', 'toho', 'toit', 'toko', 'toll', 'tolt', 'tomtit', 'took', 'tool', 'toolroom', 'toom', 'toon', 'toonwood', 'toop', 'toot', 'topo', 'toro', 'torotoro', 'tort', 'toss', 'tost', 'tote', 'toto', 'Totoro', 'totter', 'tottle', 'toty', 'tout', 'tree', 'tret', 'trot', 'trotty', 'tryt', 'tuff', 'tuft', 'Tulu', 'tunu', 'turr', 'tussis', 'tute', 'tuth', 'tuts', 'tutu', 'twat', 'twee', 'tweedledee', 'tweeze', 'twit', 'twitty', 'tyee', 'typp', 'typy', 'Tyrr', 'Ubii', 'ubussu', 'ulla', 'ulua', 'unau', 'upprop', 'urus', 'usee', 'ussels', 'utum', 'uturuncu', 'vall', 'vara', 'Vasa', 'vasa', 'Vassos', 'veen', 'veep', 'veer', 'vegete', 'vell', 'vendee', 'veneer', 'veneerer', 'venene', 'vestee', 'Vili', 'vill', 'Viti', 'viva', 'vive', 'Waac', 'waag', 'waar', 'waff', 'waiata', 'waka', 'wall', 'wamara', 'wapp', 'warrer', 'Wasagara', 'Watala', 'watt', 'wawa', 'wayaka', 'webeye', 'wedded', 'wede', 'weeble', 'weed', 'weeded', 'weeder', 'week', 'weel', 'weemen', 'ween', 'weep', 'weeper', 'weepered', 'weet', 'weever', 'weewow', 'wekeen', 'well', 'wene', 'were', 'wese', 'weve', 'whee', 'wheeze', 'whew', 'whoo', 'Will', 'will', 'wirr', 'wiss', 'wood', 'woodroof', 'woof', 'wool', 'woom', 'woon', 'wowt', 'wraw', 'wudu', 'wugg', 'wull', 'wuss', 'wuzu', 'wynn', 'wyss', 'yaba', 'Yadava', 'yaff', 'Yaka', 'Yakala', 'Yana', 'yapa', 'yapp', 'yarr', 'yava', 'yawy', 'yaya', 'yday', 'yede', 'yeel', 'yees', 'yegg', 'yell', 'Yengee', 'Yengeese', 'yere', 'yese', 'yill', 'yirr', 'yoky', 'yook', 'yoop', 'yutu', 'Zapara', 'zeed', 'Zeke', 'zobo', 'zogo', 'zoll', 'zoom', 'zoon', 'Zulu', 'zuza', 'baby', 'ball', 'bell', 'book', 'boot', 'bulb', 'cheese', 'cook', 'dead', 'deep', 'degree', 'door', 'edge', 'even', 'ever', 'fall', 'feeble', 'food', 'foot', 'free', 'full', 'good', 'here', 'high', 'hook', 'keep', 'kick', 'kiss', 'knee', 'look', 'loss', 'mass', 'moon', 'need', 'needle', 'pipe', 'poor', 'pull', 'pump', 'roll', 'roof', 'room', 'root', 'scissors', 'seed', 'seem', 'sneeze', 'tall', 'test', 'that', 'till', 'tree', 'wall', 'week', 'well', 'will', 'wood', 'wool']\n"
     ]
    }
   ],
   "source": [
    "print(half_letter_words)"
   ]
  },
  {
   "cell_type": "code",
   "execution_count": null,
   "metadata": {},
   "outputs": [],
   "source": []
  }
 ],
 "metadata": {
  "kernelspec": {
   "display_name": "Python 3",
   "language": "python",
   "name": "python3"
  },
  "language_info": {
   "codemirror_mode": {
    "name": "ipython",
    "version": 3
   },
   "file_extension": ".py",
   "mimetype": "text/x-python",
   "name": "python",
   "nbconvert_exporter": "python",
   "pygments_lexer": "ipython3",
   "version": "3.7.4"
  }
 },
 "nbformat": 4,
 "nbformat_minor": 2
}
