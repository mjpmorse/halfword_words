{
 "cells": [
  {
   "cell_type": "raw",
   "metadata": {},
   "source": []
  },
  {
   "cell_type": "code",
   "execution_count": 23,
   "metadata": {},
   "outputs": [],
   "source": [
    "from PyDictionary import PyDictionary\n",
    "from nltk.corpus import words\n",
    "import nltk\n",
    "from collections import Counter"
   ]
  },
  {
   "cell_type": "code",
   "execution_count": 13,
   "metadata": {},
   "outputs": [
    {
     "name": "stdout",
     "output_type": "stream",
     "text": [
      "showing info https://raw.githubusercontent.com/nltk/nltk_data/gh-pages/index.xml\n"
     ]
    }
   ],
   "source": [
    "dictionary=PyDictionary()\n",
    "nltk.download()\n",
    "word_list = words.words()"
   ]
  },
  {
   "cell_type": "code",
   "execution_count": 76,
   "metadata": {},
   "outputs": [],
   "source": [
    "most_common_letter = Counter(word_list[5]).most_common(1)[0]\n",
    "\n",
    "half_letter_words = []\n",
    "half_letter_words_plus = []\n",
    "\n",
    "\n",
    "for word in word_list:\n",
    "    most_common = Counter(word).most_common(1)[0]\n",
    "    if((most_common[1] >=len(word)/2) and (len(word) > 2)):\n",
    "        half_letter_words_plus.append(word)\n",
    "        \n",
    "    if((most_common[1] == len(word)/2) and (len(word) > 2)):\n",
    "        half_letter_words.append(word)\n",
    "        \n",
    "    \n"
   ]
  },
  {
   "cell_type": "code",
   "execution_count": 79,
   "metadata": {
    "scrolled": true
   },
   "outputs": [
    {
     "name": "stdout",
     "output_type": "stream",
     "text": [
      "Percent of words with most repeated letter => half word length: 0.93%\n",
      "Percent of words with most repeated letter = half word length: 0.80%\n"
     ]
    }
   ],
   "source": [
    "print(\"Percent of words with most repeated letter => half word length: %.2f%%\"%(len(half_letter_words_plus)/ len([x for x in word_list if len(x) > 2])*100) )\n",
    "print(\"Percent of words with most repeated letter = half word length: %.2f%%\"%(len(half_letter_words)/ len([x for x in word_list if len(x) > 2])*100) )"
   ]
  },
  {
   "cell_type": "code",
   "execution_count": 86,
   "metadata": {},
   "outputs": [],
   "source": [
    "list_of_only_odd = [x for x in half_letter_words_plus if len(x) % 2 == 1]\n",
    "list_of_only_even_greater_than_2 = list(set([x for x in half_letter_words_plus if len(x) % 2 == 0])-set(half_letter_words))"
   ]
  },
  {
   "cell_type": "code",
   "execution_count": 87,
   "metadata": {},
   "outputs": [
    {
     "data": {
      "text/plain": [
       "30"
      ]
     },
     "execution_count": 87,
     "metadata": {},
     "output_type": "execute_result"
    }
   ],
   "source": [
    "len(list_of_only_even_greater_than_2)"
   ]
  },
  {
   "cell_type": "code",
   "execution_count": 88,
   "metadata": {},
   "outputs": [
    {
     "name": "stdout",
     "output_type": "stream",
     "text": [
      "['bibb', 'loll', 'gegg', 'teevee', 'tooroo', 'geejee', 'soss', 'sess', 'dodded', 'lall', 'epee', 'voodoo', 'pookoo', 'dodd', 'faff', 'seesee', 'lull', 'lill', 'zoozoo', 'fuff', 'peewee', 'assess', 'zizz', 'iiwi', 'boohoo', 'toozoo', 'hoodoo', 'siss', 'kakkak', 'woohoo']\n"
     ]
    }
   ],
   "source": [
    "print(list_of_only_even_greater_than_2)"
   ]
  },
  {
   "cell_type": "code",
   "execution_count": null,
   "metadata": {},
   "outputs": [],
   "source": []
  }
 ],
 "metadata": {
  "kernelspec": {
   "display_name": "Python 3",
   "language": "python",
   "name": "python3"
  },
  "language_info": {
   "codemirror_mode": {
    "name": "ipython",
    "version": 3
   },
   "file_extension": ".py",
   "mimetype": "text/x-python",
   "name": "python",
   "nbconvert_exporter": "python",
   "pygments_lexer": "ipython3",
   "version": "3.7.4"
  }
 },
 "nbformat": 4,
 "nbformat_minor": 2
}
