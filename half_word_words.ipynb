{
 "cells": [
  {
   "cell_type": "raw",
   "metadata": {},
   "source": []
  },
  {
   "cell_type": "code",
   "execution_count": 3,
   "metadata": {},
   "outputs": [],
   "source": [
    "from collections import Counter\n",
    "file1 = open('/usr/share/dict/words', 'r') \n",
    "word_list =  [x.strip() for x in file1.readlines()]\n",
    "file1.close()"
   ]
  },
  {
   "cell_type": "code",
   "execution_count": 4,
   "metadata": {},
   "outputs": [],
   "source": [
    "half_letter_words = []\n",
    "half_letter_words_plus = []\n",
    "\n",
    "\n",
    "for word in word_list:\n",
    "    most_common = Counter(word).most_common(1)[0]\n",
    "    if((most_common[1] >=len(word)/2) and (len(word) > 2)):\n",
    "        half_letter_words_plus.append(word)\n",
    "        \n",
    "    if((most_common[1] == len(word)/2) and (len(word) > 2)):\n",
    "        half_letter_words.append(word)\n",
    "        \n",
    "    \n"
   ]
  },
  {
   "cell_type": "code",
   "execution_count": 11,
   "metadata": {
    "scrolled": true
   },
   "outputs": [
    {
     "name": "stdout",
     "output_type": "stream",
     "text": [
      "Percent of words with most repeated letter => half word length: 1.80%. Only even length words considered\n",
      "Percent of words with most repeated letter = half word length: 0.78%\n"
     ]
    }
   ],
   "source": [
    "print(\"Percent of words with most repeated letter => half word length: %.2f%%.\"%(len(half_letter_words_plus)/ len([x for x in word_list if (len(x) > 2 and len(x)%2 ==0)])*100) )\n",
    "print(\"Percent of words with most repeated letter = half word length: %.2f%%.  Only even length words considered\"%(len(half_letter_words)/ len([x for x in word_list if len(x) > 2])*100) )"
   ]
  },
  {
   "cell_type": "code",
   "execution_count": 6,
   "metadata": {},
   "outputs": [],
   "source": [
    "list_of_only_odd = [x for x in half_letter_words_plus if len(x) % 2 == 1]\n",
    "list_of_only_even_greater_than_2 = list(set([x for x in half_letter_words_plus if len(x) % 2 == 0])-set(half_letter_words))"
   ]
  },
  {
   "cell_type": "code",
   "execution_count": 7,
   "metadata": {},
   "outputs": [
    {
     "data": {
      "text/plain": [
       "30"
      ]
     },
     "execution_count": 7,
     "metadata": {},
     "output_type": "execute_result"
    }
   ],
   "source": [
    "len(list_of_only_even_greater_than_2)"
   ]
  },
  {
   "cell_type": "code",
   "execution_count": 8,
   "metadata": {},
   "outputs": [
    {
     "name": "stdout",
     "output_type": "stream",
     "text": [
      "['bibb', 'kakkak', 'zizz', 'boohoo', 'teevee', 'siss', 'assess', 'lill', 'woohoo', 'dodded', 'sess', 'lall', 'hoodoo', 'fuff', 'toozoo', 'peewee', 'zoozoo', 'tooroo', 'lull', 'geejee', 'voodoo', 'faff', 'epee', 'pookoo', 'soss', 'loll', 'iiwi', 'seesee', 'dodd', 'gegg']\n"
     ]
    }
   ],
   "source": [
    "print(list_of_only_even_greater_than_2)"
   ]
  },
  {
   "cell_type": "code",
   "execution_count": 9,
   "metadata": {},
   "outputs": [
    {
     "data": {
      "text/plain": [
       "235886"
      ]
     },
     "execution_count": 9,
     "metadata": {},
     "output_type": "execute_result"
    }
   ],
   "source": [
    "len(word_list)"
   ]
  },
  {
   "cell_type": "code",
   "execution_count": null,
   "metadata": {},
   "outputs": [],
   "source": []
  }
 ],
 "metadata": {
  "kernelspec": {
   "display_name": "Python 3",
   "language": "python",
   "name": "python3"
  },
  "language_info": {
   "codemirror_mode": {
    "name": "ipython",
    "version": 3
   },
   "file_extension": ".py",
   "mimetype": "text/x-python",
   "name": "python",
   "nbconvert_exporter": "python",
   "pygments_lexer": "ipython3",
   "version": "3.7.4"
  }
 },
 "nbformat": 4,
 "nbformat_minor": 2
}
